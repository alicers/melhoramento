{
 "cells": [
  {
   "cell_type": "code",
   "execution_count": 1,
   "metadata": {},
   "outputs": [],
   "source": [
    "import pandas as pd\r\n"
   ]
  },
  {
   "cell_type": "code",
   "execution_count": 7,
   "metadata": {},
   "outputs": [
    {
     "name": "stdout",
     "output_type": "stream",
     "text": [
      "XT = 260 + (1.25 * 30) = 297.5\n",
      " XS = 260 + (1.73 * 30) = 311.9 \n",
      "deltaS = 311.9 - 260 = 51.89999999999998\n",
      "deltaG = 0.2 * 1.73 * 30 = 10.38\n"
     ]
    }
   ],
   "source": [
    "\r\n",
    "# ponto de truncamento em desvio padrão\r\n",
    "t = 1.25\r\n",
    "\r\n",
    "# proporção de selecionados\r\n",
    "b = 0.1056\r\n",
    "\r\n",
    "# proporção de eliminados\r\n",
    "A = 0.3944\r\n",
    "\r\n",
    "# altura da ordenada no ponto de truncamento\r\n",
    "Z = 0.1827\r\n",
    "\r\n",
    "# intensidade da seleção\r\n",
    "\r\n",
    "i = 1.73\r\n",
    "\r\n",
    "# desvio padrão da população\r\n",
    "sigmaP = 30\r\n",
    "\r\n",
    "# média da população\r\n",
    "XP = 260\r\n",
    "\r\n",
    "# truncamento\r\n",
    "XT = XP + (t * sigmaP) \r\n",
    "\r\n",
    "print(f'XT = {XP} + ({t} * {sigmaP}) = {XT}')\r\n",
    "\r\n",
    "# média dos animais selecionados\r\n",
    "XS = XP + (i * sigmaP)\r\n",
    "\r\n",
    "print(f' XS = {XP} + ({i} * {sigmaP}) = {XS} ')\r\n",
    "\r\n",
    "# diferencial de seleção\r\n",
    "deltaS = XS - XP\r\n",
    "\r\n",
    "print(f'deltaS = {XS} - {XP} = {deltaS}') \r\n",
    "\r\n",
    "# herdabilidade\r\n",
    "h2 = 0.2\r\n",
    "\r\n",
    "# ganho genético\r\n",
    "\r\n",
    "deltaG = h2 * i * sigmaP\r\n",
    "\r\n",
    "print(f'deltaG = {h2} * {i} * {sigmaP} = {deltaG}')\r\n",
    "\r\n",
    "\r\n",
    "\r\n"
   ]
  }
 ],
 "metadata": {
  "kernelspec": {
   "display_name": "Python 3.9.4 64-bit ('PythonSoftwareFoundation.Python.3.9_qbz5n2kfra8p0')",
   "name": "python394jvsc74a57bd03f5bb76ae657effe205a4054b2f0e79f03f97aa9fe6072a24dcf67bb114077a9"
  },
  "language_info": {
   "codemirror_mode": {
    "name": "ipython",
    "version": 3
   },
   "file_extension": ".py",
   "mimetype": "text/x-python",
   "name": "python",
   "nbconvert_exporter": "python",
   "pygments_lexer": "ipython3",
   "version": "3.9.4"
  },
  "metadata": {
   "interpreter": {
    "hash": "3f5bb76ae657effe205a4054b2f0e79f03f97aa9fe6072a24dcf67bb114077a9"
   }
  },
  "orig_nbformat": 2
 },
 "nbformat": 4,
 "nbformat_minor": 2
}