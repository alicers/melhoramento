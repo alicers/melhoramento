{
 "cells": [
  {
   "cell_type": "code",
   "execution_count": 1,
   "metadata": {},
   "outputs": [],
   "source": [
    "\r\n",
    "import pandas as pd"
   ]
  },
  {
   "cell_type": "code",
   "execution_count": 5,
   "metadata": {},
   "outputs": [
    {
     "data": {
      "text/html": "<div>\n<style scoped>\n    .dataframe tbody tr th:only-of-type {\n        vertical-align: middle;\n    }\n\n    .dataframe tbody tr th {\n        vertical-align: top;\n    }\n\n    .dataframe thead th {\n        text-align: right;\n    }\n</style>\n<table border=\"1\" class=\"dataframe\">\n  <thead>\n    <tr style=\"text-align: right;\">\n      <th></th>\n      <th>1</th>\n      <th>2</th>\n      <th>3</th>\n    </tr>\n  </thead>\n  <tbody>\n    <tr>\n      <th>0</th>\n      <td>2.3</td>\n      <td>2.2</td>\n      <td>2.1</td>\n    </tr>\n    <tr>\n      <th>1</th>\n      <td>2.2</td>\n      <td>3.1</td>\n      <td>2.6</td>\n    </tr>\n    <tr>\n      <th>2</th>\n      <td>2.2</td>\n      <td>2.7</td>\n      <td>2.7</td>\n    </tr>\n    <tr>\n      <th>3</th>\n      <td>3.0</td>\n      <td>2.2</td>\n      <td>2.0</td>\n    </tr>\n    <tr>\n      <th>4</th>\n      <td>2.4</td>\n      <td>2.5</td>\n      <td>1.9</td>\n    </tr>\n    <tr>\n      <th>5</th>\n      <td>2.8</td>\n      <td>2.6</td>\n      <td>1.9</td>\n    </tr>\n  </tbody>\n</table>\n</div>",
      "text/plain": "     1    2    3\n0  2.3  2.2  2.1\n1  2.2  3.1  2.6\n2  2.2  2.7  2.7\n3  3.0  2.2  2.0\n4  2.4  2.5  1.9\n5  2.8  2.6  1.9"
     },
     "execution_count": 5,
     "metadata": {},
     "output_type": "execute_result"
    }
   ],
   "source": [
    "table = {\r\n",
    "    '1': [2.3, 2.2, 2.2, 3, 2.4, 2.8],\r\n",
    "    '2': [2.2, 3.1, 2.7, 2.2, 2.5, 2.6],\r\n",
    "    '3': [2.1, 2.6, 2.7, 2, 1.9, 1.9]\r\n",
    "}\r\n",
    "pd.DataFrame(table)"
   ]
  },
  {
   "cell_type": "code",
   "execution_count": 8,
   "metadata": {},
   "outputs": [
    {
     "name": "stdout",
     "output_type": "stream",
     "text": [
      "G é o total geral\n",
      "G = 43.4\n",
      "r = 3\n",
      "k = 6\n",
      "C = (43.4 * 43.4) / (3 * 6) = 104.64222222222222\n",
      "SQTotal => 106.84 - 104.64222222222222 = 2.1977777777777874\n",
      "\n",
      "soma dos quadrados do reprodutor 1 = 14.899999999999999² = 222.00999999999996\n",
      "soma dos quadrados do reprodutor 2 = 15.299999999999999² = 234.08999999999997\n",
      "soma dos quadrados do reprodutor 3 = 13.200000000000001² = 174.24000000000004\n",
      "\n",
      "SQI = 1/6 * 630.3399999999999 - 104.64222222222222 = 0.4144444444444275\n",
      "SQE = 2.1977777777777874 - 0.4144444444444275 = 1.7833333333333599\n"
     ]
    }
   ],
   "source": [
    "\r\n",
    "\r\n",
    "# Total GERAL\r\n",
    "G = 0\r\n",
    "\r\n",
    "# R numero de animais\r\n",
    "r = len(table)\r\n",
    "\r\n",
    "# K numero de medições de cada animal \r\n",
    "k = len(table['1'])\r\n",
    "\r\n",
    "# Total de elementos\r\n",
    "N = r * k\r\n",
    "\r\n",
    "soma_quadrados = 0\r\n",
    "# Somamos os elementos das tabela\r\n",
    "for i in table:\r\n",
    "    for j in table[i]:\r\n",
    "        G += j\r\n",
    "        soma_quadrados += (j * j)\r\n",
    "\r\n",
    "# Fator de correção\r\n",
    "C = (G * G) / (r * k)\r\n",
    "SQtotal = soma_quadrados - C\r\n",
    "\r\n",
    "\r\n",
    "print('G é o total geral')    \r\n",
    "print(f'G = {G}')\r\n",
    "print(f'r = {r}\\nk = {k}')\r\n",
    "print(f'C = ({G} * {G}) / ({r} * {k}) = {C}')\r\n",
    "print(f'SQTotal => {soma_quadrados} - {C} = {SQtotal}\\n')\r\n",
    "\r\n",
    "SQI = 0\r\n",
    "\r\n",
    "soma_linha = 0\r\n",
    "\r\n",
    "for i in table:\r\n",
    "    # quadrado das somas das medições de cada indivíduo\r\n",
    "    soma_linha += pow(sum(table[i]), 2) \r\n",
    "    print(f'soma dos quadrados do indivíduo {i} = {sum(table[i])}² = {pow(sum(table[i]), 2)}')\r\n",
    "\r\n",
    "\r\n",
    "SQI = ((1 / k) * soma_linha) - C\r\n",
    "\r\n",
    "\r\n",
    "\r\n",
    "# Sqe soma do quadrado do erro\r\n",
    "SQE = SQtotal - SQI\r\n",
    "\r\n",
    "\r\n",
    "\r\n",
    "# Quadrado medio dos reprodutores\r\n",
    "QMI = SQI / (r - 1)\r\n",
    "\r\n",
    "# Quadrado medio do erro\r\n",
    "QME = SQE / (N - r)\r\n",
    "\r\n",
    "# estimar componentes da variancia\r\n",
    "sigmaE = QME\r\n",
    "sigmaI = (QMI - QME) / k\r\n",
    "\r\n",
    "# repetibilidade\r\n",
    "\r\n",
    "R = sigmaI / (sigmaI + sigmaE)\r\n",
    "\r\n",
    "\r\n",
    "print(f'\\nSQI = 1/{k} * {soma_linha} - {C} = {SQI}')\r\n",
    "print(f'SQE = {SQtotal} - {SQI} = {SQE}')\r\n",
    "print(f'QMI = {SQI} / ({r} - 1) = {QMI}')\r\n",
    "print(f'QME = {SQE} / ({N} - {r}) = {QME}')\r\n",
    "print(f'sigmaE = QME = {sigmaE}')\r\n",
    "print(f'sigmaI = (QMI - QME) / k = {sigmaI}')\r\n",
    "print(f'R = {sigmaI} / ({sigmaI} + {sigmaE}) = {R}')"
   ]
  }
 ],
 "metadata": {
  "kernelspec": {
   "display_name": "Python 3.9.4 64-bit ('PythonSoftwareFoundation.Python.3.9_qbz5n2kfra8p0')",
   "name": "python394jvsc74a57bd03f5bb76ae657effe205a4054b2f0e79f03f97aa9fe6072a24dcf67bb114077a9"
  },
  "language_info": {
   "codemirror_mode": {
    "name": "ipython",
    "version": 3
   },
   "file_extension": ".py",
   "mimetype": "text/x-python",
   "name": "python",
   "nbconvert_exporter": "python",
   "pygments_lexer": "ipython3",
   "version": "3.9.4"
  },
  "metadata": {
   "interpreter": {
    "hash": "3f5bb76ae657effe205a4054b2f0e79f03f97aa9fe6072a24dcf67bb114077a9"
   }
  },
  "orig_nbformat": 2
 },
 "nbformat": 4,
 "nbformat_minor": 2
}