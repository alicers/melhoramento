{
 "cells": [
  {
   "cell_type": "code",
   "execution_count": 34,
   "metadata": {},
   "outputs": [],
   "source": [
    "import pandas as pd\r\n",
    "import herdabilidade\r\n"
   ]
  },
  {
   "cell_type": "code",
   "execution_count": 38,
   "metadata": {},
   "outputs": [],
   "source": [
    "\r\n"
   ]
  },
  {
   "cell_type": "code",
   "execution_count": 5,
   "metadata": {},
   "outputs": [
    {
     "name": "stdout",
     "output_type": "stream",
     "text": [
      "SQE = 180.42 - 31.77 = 148.64999999999998\n",
      "QMR = 31.77 / (80 - 1) = 0.4021518987341772\n",
      "QME = 148.64999999999998 / (1200 - 80) = 0.13272321428571426\n",
      "sigmaE = QME = 0.13272321428571426\n",
      "sigmaR = (QMR - QME) / k = 0.017961912296564197\n",
      "\n",
      "h² = (4 * 0.017961912296564197) / (0.017961912296564197 + 0.13272321428571426) = 0.4768065091482396\n",
      "herdabilidade = 0.4768065091482396\n"
     ]
    }
   ],
   "source": [
    "\r\n",
    "# Total GERAL\r\n",
    "G = 0\r\n",
    "\r\n",
    "# R numero de reprodutores\r\n",
    "r = 33\r\n",
    "\r\n",
    "# K numero de filhos por reprodutor\r\n",
    "k = 17\r\n",
    "\r\n",
    "# Total de elementos\r\n",
    "N = r * k\r\n",
    "\r\n",
    "SQtotal = 1225,232\r\n",
    "\r\n",
    "SQRep = 31.77\r\n",
    "\r\n",
    "# Sqe soma do quadrado do erro\r\n",
    "SQE = SQtotal - SQRep\r\n",
    "\r\n",
    "# Quadrado medio dos reprodutores\r\n",
    "QMR = SQRep / (r - 1)\r\n",
    "\r\n",
    "# Quadrado medio do erro\r\n",
    "QME = SQE / (N - r)\r\n",
    "\r\n",
    "# estimar componentes da variancia\r\n",
    "sigmaE = QME\r\n",
    "sigmaR = (QMR - QME) / k\r\n",
    "\r\n",
    "# herdabilidade\r\n",
    "herdabilidade = (4 * sigmaR) / (sigmaR + sigmaE) \r\n",
    "\r\n",
    "\r\n",
    "print(f'SQE = {SQtotal} - {SQRep} = {SQE}')\r\n",
    "print(f'QMR = {SQRep} / ({r} - 1) = {QMR}')\r\n",
    "print(f'QME = {SQE} / ({N} - {r}) = {QME}')\r\n",
    "print(f'sigmaE = QME = {sigmaE}')\r\n",
    "print(f'sigmaR = (QMR - QME) / k = {sigmaR}')\r\n",
    "print(f'\\nh² = (4 * {sigmaR}) / ({sigmaR} + {sigmaE}) = {herdabilidade}')\r\n",
    "print(f'herdabilidade = {herdabilidade}')"
   ]
  },
  {
   "cell_type": "code",
   "execution_count": null,
   "metadata": {},
   "outputs": [],
   "source": []
  }
 ],
 "metadata": {
  "kernelspec": {
   "display_name": "Python 3.9.4 64-bit",
   "name": "python394jvsc74a57bd00dcdb8eab8d92e27de06b9c5b7d989871148822d0bfdc9493dd7b902c51e7a12"
  },
  "language_info": {
   "codemirror_mode": {
    "name": "ipython",
    "version": 3
   },
   "file_extension": ".py",
   "mimetype": "text/x-python",
   "name": "python",
   "nbconvert_exporter": "python",
   "pygments_lexer": "ipython3",
   "version": "3.9.4"
  },
  "metadata": {
   "interpreter": {
    "hash": "0dcdb8eab8d92e27de06b9c5b7d989871148822d0bfdc9493dd7b902c51e7a12"
   }
  },
  "orig_nbformat": 2
 },
 "nbformat": 4,
 "nbformat_minor": 2
}