{
 "cells": [
  {
   "cell_type": "code",
   "execution_count": 3,
   "metadata": {},
   "outputs": [],
   "source": [
    "import pandas as pd\r\n"
   ]
  },
  {
   "cell_type": "code",
   "execution_count": 6,
   "metadata": {},
   "outputs": [
    {
     "data": {
      "text/html": "<div>\n<style scoped>\n    .dataframe tbody tr th:only-of-type {\n        vertical-align: middle;\n    }\n\n    .dataframe tbody tr th {\n        vertical-align: top;\n    }\n\n    .dataframe thead th {\n        text-align: right;\n    }\n</style>\n<table border=\"1\" class=\"dataframe\">\n  <thead>\n    <tr style=\"text-align: right;\">\n      <th></th>\n      <th>A</th>\n      <th>B</th>\n      <th>C</th>\n      <th>D</th>\n    </tr>\n  </thead>\n  <tbody>\n    <tr>\n      <th>0</th>\n      <td>270</td>\n      <td>282</td>\n      <td>280</td>\n      <td>295</td>\n    </tr>\n    <tr>\n      <th>1</th>\n      <td>285</td>\n      <td>275</td>\n      <td>278</td>\n      <td>299</td>\n    </tr>\n    <tr>\n      <th>2</th>\n      <td>289</td>\n      <td>280</td>\n      <td>300</td>\n      <td>270</td>\n    </tr>\n    <tr>\n      <th>3</th>\n      <td>279</td>\n      <td>288</td>\n      <td>296</td>\n      <td>300</td>\n    </tr>\n    <tr>\n      <th>4</th>\n      <td>297</td>\n      <td>265</td>\n      <td>289</td>\n      <td>289</td>\n    </tr>\n  </tbody>\n</table>\n</div>",
      "text/plain": "     A    B    C    D\n0  270  282  280  295\n1  285  275  278  299\n2  289  280  300  270\n3  279  288  296  300\n4  297  265  289  289"
     },
     "execution_count": 6,
     "metadata": {},
     "output_type": "execute_result"
    }
   ],
   "source": [
    "table = {\r\n",
    "    'A': [270, 285, 289, 279, 297],\r\n",
    "    'B': [282, 275, 280, 288, 265],\r\n",
    "    'C': [280, 278, 300, 296, 289],\r\n",
    "    'D': [295, 299, 270, 300, 289]\r\n",
    "}\r\n",
    "\r\n",
    "pd.DataFrame(table)"
   ]
  },
  {
   "cell_type": "code",
   "execution_count": 11,
   "metadata": {},
   "outputs": [
    {
     "name": "stdout",
     "output_type": "stream",
     "text": [
      "G é o total geral\n",
      "G = 5706\n",
      "r = 4\n",
      "k = 5\n",
      "C = (5706 * 5706) / (4 * 5) = 1627921.8\n",
      "1630082 - 1627921.8 = 2160.1999999999534 \n",
      "SQTotal = 2160.1999999999534\n"
     ]
    }
   ],
   "source": [
    "# Total GERAL\r\n",
    "G = 0\r\n",
    "\r\n",
    "# R numero de reprodutores\r\n",
    "r = len(table)\r\n",
    "\r\n",
    "# K numero de filhos por reprodutor\r\n",
    "k = len(table['A'])\r\n",
    "\r\n",
    "soma_quadrados = 0\r\n",
    "# Somamos os elementos das tabela\r\n",
    "for i in table:\r\n",
    "    for j in table[i]:\r\n",
    "        G += j\r\n",
    "        soma_quadrados += (j * j)\r\n",
    "\r\n",
    "\r\n",
    "# Fator de correção\r\n",
    "C = (G * G) / (r * k)\r\n",
    "\r\n",
    "SQtotal = soma_quadrados - C\r\n",
    "\r\n",
    "\r\n",
    "print('G é o total geral')    \r\n",
    "print(f'G = {G}')\r\n",
    "print(f'r = {r}\\nk = {k}')\r\n",
    "print(f'C = ({G} * {G}) / ({r} * {k}) = {C}')\r\n",
    "print(f'{soma_quadrados} - {C} = {SQtotal} \\nSQTotal = {SQtotal}')\r\n"
   ]
  }
 ],
 "metadata": {
  "kernelspec": {
   "display_name": "Python 3.9.4 64-bit",
   "name": "python394jvsc74a57bd001c60689fd8b37607e1239ad2e40d6d5e1b0cc3961e369df66b7ef5fa87e155e"
  },
  "language_info": {
   "codemirror_mode": {
    "name": "ipython",
    "version": 3
   },
   "file_extension": ".py",
   "mimetype": "text/x-python",
   "name": "python",
   "nbconvert_exporter": "python",
   "pygments_lexer": "ipython3",
   "version": "3.9.4"
  },
  "metadata": {
   "interpreter": {
    "hash": "01c60689fd8b37607e1239ad2e40d6d5e1b0cc3961e369df66b7ef5fa87e155e"
   }
  },
  "orig_nbformat": 2
 },
 "nbformat": 4,
 "nbformat_minor": 2
}