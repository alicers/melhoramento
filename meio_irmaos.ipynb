{
 "cells": [
  {
   "cell_type": "code",
   "execution_count": 66,
   "metadata": {},
   "outputs": [],
   "source": [
    "import pandas as pd\r\n",
    "import herdabilidade\r\n"
   ]
  },
  {
   "cell_type": "code",
   "execution_count": 67,
   "metadata": {},
   "outputs": [],
   "source": [
    "table = {\r\n",
    "    'A': [270, 285, 289, 279, 297],\r\n",
    "    'B': [282, 275, 280, 288, 265],\r\n",
    "    'C': [280, 278, 300, 296, 289],\r\n",
    "    'D': [295, 299, 270, 300, 289]\r\n",
    "}\r\n",
    "\r\n",
    "dataframe = pd.DataFrame(table)"
   ]
  },
  {
   "cell_type": "code",
   "execution_count": 68,
   "metadata": {},
   "outputs": [
    {
     "name": "stdout",
     "output_type": "stream",
     "text": [
      "G é o total geral\n",
      "G = 5706\n",
      "r = 5\n",
      "k = 5\n",
      "C = (5706 * 5706) / (5 * 5) = 1302337.44\n",
      "SQTotal => 1630082 - 1302337.44 = 327744.56000000006\n",
      "\n",
      "soma dos quadrados do reprodutor A = 1420² = 2016400\n",
      "soma dos quadrados do reprodutor B = 1390² = 1932100\n",
      "soma dos quadrados do reprodutor C = 1443² = 2082249\n",
      "soma dos quadrados do reprodutor D = 1453² = 2111209\n",
      "\n",
      "SQRep = 1/5 * 8141958 - 1302337.44 = 326054.16000000015\n",
      "SQE = 327744.56000000006 - 326054.16000000015 = 1690.3999999999069\n",
      "QMR = 326054.16000000015 / (5 - 1) = 81513.54000000004\n",
      "QME = 1690.3999999999069 / (25 - 5) = 84.51999999999535\n",
      "sigmaE = QME = 84.51999999999535\n",
      "sigmaR = (QMR - QME) / k = 16285.80400000001\n",
      "\n",
      "h² = (4 * 16285.80400000001) / (16285.80400000001 + 84.51999999999535) = 3.9793479958002065\n",
      "herdabilidade = 3.9793479958002065\n"
     ]
    }
   ],
   "source": [
    "calc_herdabilidade(dataframe)"
   ]
  }
 ],
 "metadata": {
  "kernelspec": {
   "display_name": "Python 3.9.4 64-bit",
   "name": "python394jvsc74a57bd001c60689fd8b37607e1239ad2e40d6d5e1b0cc3961e369df66b7ef5fa87e155e"
  },
  "language_info": {
   "codemirror_mode": {
    "name": "ipython",
    "version": 3
   },
   "file_extension": ".py",
   "mimetype": "text/x-python",
   "name": "python",
   "nbconvert_exporter": "python",
   "pygments_lexer": "ipython3",
   "version": "3.9.4"
  },
  "metadata": {
   "interpreter": {
    "hash": "01c60689fd8b37607e1239ad2e40d6d5e1b0cc3961e369df66b7ef5fa87e155e"
   }
  },
  "orig_nbformat": 2
 },
 "nbformat": 4,
 "nbformat_minor": 2
}