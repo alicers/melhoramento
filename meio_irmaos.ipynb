{
 "cells": [
  {
   "cell_type": "code",
   "execution_count": 34,
   "metadata": {},
   "outputs": [],
   "source": [
    "import pandas as pd\r\n",
    "import herdabilidade\r\n"
   ]
  },
  {
   "cell_type": "code",
   "execution_count": 35,
   "metadata": {},
   "outputs": [],
   "source": [
    "table = {\r\n",
    "    'A': [270, 285, 289, 279, 297],\r\n",
    "    'B': [282, 275, 280, 288, 265],\r\n",
    "    'C': [280, 278, 300, 296, 289],\r\n",
    "    'D': [295, 299, 270, 300, 289]\r\n",
    "}\r\n",
    "\r\n",
    "dataframe = pd.DataFrame(table)\r\n"
   ]
  },
  {
   "cell_type": "code",
   "execution_count": 36,
   "metadata": {},
   "outputs": [],
   "source": [
    "def calc_herdabilidade(table):\r\n",
    "    # Total GERAL\r\n",
    "    G = 0\r\n",
    "\r\n",
    "    # R numero de reprodutores\r\n",
    "    r = len(table)\r\n",
    "\r\n",
    "    # K numero de filhos por reprodutor\r\n",
    "    k = len(table['A'])\r\n",
    "\r\n",
    "    # Total de elementos\r\n",
    "    N = r * k\r\n",
    "\r\n",
    "    soma_quadrados = 0\r\n",
    "    # Somamos os elementos das tabela\r\n",
    "    for i in table:\r\n",
    "        for j in table[i]:\r\n",
    "            G += j\r\n",
    "            soma_quadrados += (j * j)\r\n",
    "\r\n",
    "\r\n",
    "    # Fator de correção\r\n",
    "    C = (G * G) / (r * k)\r\n",
    "    SQtotal = soma_quadrados - C\r\n",
    "\r\n",
    "    print('G é o total geral')    \r\n",
    "    print(f'G = {G}')\r\n",
    "    print(f'r = {r}\\nk = {k}')\r\n",
    "    print(f'C = ({G} * {G}) / ({r} * {k}) = {C}')\r\n",
    "    print(f'SQTotal => {soma_quadrados} - {C} = {SQtotal}\\n')\r\n",
    "\r\n",
    "    SQRep = 0\r\n",
    "\r\n",
    "    soma_linha = 0\r\n",
    "\r\n",
    "    for i in table:\r\n",
    "        # quadrado das somas dos reprodutores\r\n",
    "        soma_linha += pow(sum(table[i]), 2) \r\n",
    "        print(f'soma dos quadrados do reprodutor {i} = {sum(table[i])}² = {pow(sum(table[i]), 2)}')\r\n",
    "\r\n",
    "    # Soma dos quadrados dos reprodutores\r\n",
    "    SQRep = ((1 / k) * soma_linha) - C\r\n",
    "\r\n",
    "    # Sqe soma do quadrado do erro\r\n",
    "    SQE = SQtotal - SQRep\r\n",
    "\r\n",
    "    # Quadrado medio dos reprodutores\r\n",
    "    QMR = SQRep / (r - 1)\r\n",
    "\r\n",
    "    # Quadrado medio do erro\r\n",
    "    QME = SQE / (N - r)\r\n",
    "\r\n",
    "    # estimar componentes da variancia\r\n",
    "    sigmaE = QME\r\n",
    "    sigmaR = (QMR - QME) / k\r\n",
    "\r\n",
    "    # herdabilidade\r\n",
    "    herdabilidade = (4 * sigmaR) / (sigmaR + sigmaE) \r\n",
    "\r\n",
    "\r\n",
    "    print(f'\\nSQRep = 1/{k} * {soma_linha} - {C} = {SQRep}')\r\n",
    "    print(f'SQE = {SQtotal} - {SQRep} = {SQE}')\r\n",
    "    print(f'QMR = {SQRep} / ({r} - 1) = {QMR}')\r\n",
    "    print(f'QME = {SQE} / ({N} - {r}) = {QME}')\r\n",
    "    print(f'sigmaE = QME = {sigmaE}')\r\n",
    "    print(f'sigmaR = (QMR - QME) / k = {sigmaR}')\r\n",
    "    print(f'\\nh² = (4 * {sigmaR}) / ({sigmaR} + {sigmaE}) = {herdabilidade}')\r\n",
    "    print(f'herdabilidade = {herdabilidade}')"
   ]
  },
  {
   "cell_type": "code",
   "execution_count": 37,
   "metadata": {},
   "outputs": [
    {
     "name": "stdout",
     "output_type": "stream",
     "text": [
      "G é o total geral\n",
      "G = 5706\n",
      "r = 4\n",
      "k = 5\n",
      "C = (5706 * 5706) / (4 * 5) = 1627921.8\n",
      "SQTotal => 1630082 - 1627921.8 = 2160.1999999999534\n",
      "\n",
      "soma dos quadrados do reprodutor A = 1420² = 2016400\n",
      "soma dos quadrados do reprodutor B = 1390² = 1932100\n",
      "soma dos quadrados do reprodutor C = 1443² = 2082249\n",
      "soma dos quadrados do reprodutor D = 1453² = 2111209\n",
      "\n",
      "SQRep = 1/5 * 8141958 - 1627921.8 = 469.80000000004657\n",
      "SQE = 2160.1999999999534 - 469.80000000004657 = 1690.3999999999069\n",
      "QMR = 469.80000000004657 / (4 - 1) = 156.6000000000155\n",
      "QME = 1690.3999999999069 / (20 - 4) = 105.64999999999418\n",
      "sigmaE = QME = 105.64999999999418\n",
      "sigmaR = (QMR - QME) / k = 10.190000000004266\n",
      "\n",
      "h² = (4 * 10.190000000004266) / (10.190000000004266 + 105.64999999999418) = 0.35186464088412994\n",
      "herdabilidade = 0.35186464088412994\n"
     ]
    }
   ],
   "source": [
    "calc_herdabilidade(table)"
   ]
  }
 ],
 "metadata": {
  "kernelspec": {
   "display_name": "Python 3.9.4 64-bit",
   "name": "python394jvsc74a57bd00dcdb8eab8d92e27de06b9c5b7d989871148822d0bfdc9493dd7b902c51e7a12"
  },
  "language_info": {
   "codemirror_mode": {
    "name": "ipython",
    "version": 3
   },
   "file_extension": ".py",
   "mimetype": "text/x-python",
   "name": "python",
   "nbconvert_exporter": "python",
   "pygments_lexer": "ipython3",
   "version": "3.9.4"
  },
  "metadata": {
   "interpreter": {
    "hash": "0dcdb8eab8d92e27de06b9c5b7d989871148822d0bfdc9493dd7b902c51e7a12"
   }
  },
  "orig_nbformat": 2
 },
 "nbformat": 4,
 "nbformat_minor": 2
}