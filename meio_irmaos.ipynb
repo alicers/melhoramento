{
 "cells": [
  {
   "cell_type": "code",
   "execution_count": 34,
   "metadata": {},
   "outputs": [],
   "source": [
    "import pandas as pd\r\n",
    "import herdabilidade\r\n"
   ]
  },
  {
   "cell_type": "code",
   "execution_count": 38,
   "metadata": {},
   "outputs": [],
   "source": [
    "table = {\r\n",
    "    'A': [29, 25, 25, 22, 23, 31.5],\r\n",
    "    'B': [24, 26, 24.5, 30, 30.5, 28],\r\n",
    "    'C': [22, 23.5, 22, 25, 24.5, 25]\r\n",
    "}\r\n",
    "\r\n",
    "dataframe = pd.DataFrame(table)\r\n"
   ]
  },
  {
   "cell_type": "code",
   "execution_count": 39,
   "metadata": {},
   "outputs": [],
   "source": [
    "def calc_herdabilidade(table):\r\n",
    "    # Total GERAL\r\n",
    "    G = 0\r\n",
    "\r\n",
    "    # R numero de reprodutores\r\n",
    "    r = len(table)\r\n",
    "\r\n",
    "    # K numero de filhos por reprodutor\r\n",
    "    k = len(table['A'])\r\n",
    "\r\n",
    "    # Total de elementos\r\n",
    "    N = r * k\r\n",
    "\r\n",
    "    soma_quadrados = 0\r\n",
    "    # Somamos os elementos das tabela\r\n",
    "    for i in table:\r\n",
    "        for j in table[i]:\r\n",
    "            G += j\r\n",
    "            soma_quadrados += (j * j)\r\n",
    "\r\n",
    "\r\n",
    "    # Fator de correção\r\n",
    "    C = (G * G) / (r * k)\r\n",
    "    SQtotal = soma_quadrados - C\r\n",
    "\r\n",
    "    print('G é o total geral')    \r\n",
    "    print(f'G = {G}')\r\n",
    "    print(f'r = {r}\\nk = {k}')\r\n",
    "    print(f'C = ({G} * {G}) / ({r} * {k}) = {C}')\r\n",
    "    print(f'SQTotal => {soma_quadrados} - {C} = {SQtotal}\\n')\r\n",
    "\r\n",
    "    SQRep = 0\r\n",
    "\r\n",
    "    soma_linha = 0\r\n",
    "\r\n",
    "    for i in table:\r\n",
    "        # quadrado das somas dos reprodutores\r\n",
    "        soma_linha += pow(sum(table[i]), 2) \r\n",
    "        print(f'soma dos quadrados do reprodutor {i} = {sum(table[i])}² = {pow(sum(table[i]), 2)}')\r\n",
    "\r\n",
    "    # Soma dos quadrados dos reprodutores\r\n",
    "    SQRep = ((1 / k) * soma_linha) - C\r\n",
    "\r\n",
    "    # Sqe soma do quadrado do erro\r\n",
    "    SQE = SQtotal - SQRep\r\n",
    "\r\n",
    "    # Quadrado medio dos reprodutores\r\n",
    "    QMR = SQRep / (r - 1)\r\n",
    "\r\n",
    "    # Quadrado medio do erro\r\n",
    "    QME = SQE / (N - r)\r\n",
    "\r\n",
    "    # estimar componentes da variancia\r\n",
    "    sigmaE = QME\r\n",
    "    sigmaR = (QMR - QME) / k\r\n",
    "\r\n",
    "    # herdabilidade\r\n",
    "    herdabilidade = (4 * sigmaR) / (sigmaR + sigmaE) \r\n",
    "\r\n",
    "\r\n",
    "    print(f'\\nSQRep = 1/{k} * {soma_linha} - {C} = {SQRep}')\r\n",
    "    print(f'SQE = {SQtotal} - {SQRep} = {SQE}')\r\n",
    "    print(f'QMR = {SQRep} / ({r} - 1) = {QMR}')\r\n",
    "    print(f'QME = {SQE} / ({N} - {r}) = {QME}')\r\n",
    "    print(f'sigmaE = QME = {sigmaE}')\r\n",
    "    print(f'sigmaR = (QMR - QME) / k = {sigmaR}')\r\n",
    "    print(f'\\nh² = (4 * {sigmaR}) / ({sigmaR} + {sigmaE}) = {herdabilidade}')\r\n",
    "    print(f'herdabilidade = {herdabilidade}')"
   ]
  },
  {
   "cell_type": "code",
   "execution_count": 40,
   "metadata": {},
   "outputs": [
    {
     "name": "stdout",
     "output_type": "stream",
     "text": [
      "G é o total geral\n",
      "G = 460.5\n",
      "r = 3\n",
      "k = 6\n",
      "C = (460.5 * 460.5) / (3 * 6) = 11781.125\n",
      "SQTotal => 11933.25 - 11781.125 = 152.125\n",
      "\n",
      "soma dos quadrados do reprodutor A = 155.5² = 24180.25\n",
      "soma dos quadrados do reprodutor B = 163.0² = 26569.0\n",
      "soma dos quadrados do reprodutor C = 142.0² = 20164.0\n",
      "\n",
      "SQRep = 1/6 * 70913.25 - 11781.125 = 37.75\n",
      "SQE = 152.125 - 37.75 = 114.375\n",
      "QMR = 37.75 / (3 - 1) = 18.875\n",
      "QME = 114.375 / (18 - 3) = 7.625\n",
      "sigmaE = QME = 7.625\n",
      "sigmaR = (QMR - QME) / k = 1.875\n",
      "\n",
      "h² = (4 * 1.875) / (1.875 + 7.625) = 0.7894736842105263\n",
      "herdabilidade = 0.7894736842105263\n"
     ]
    }
   ],
   "source": [
    "calc_herdabilidade(table)"
   ]
  }
 ],
 "metadata": {
  "kernelspec": {
   "display_name": "Python 3.9.4 64-bit",
   "name": "python394jvsc74a57bd00dcdb8eab8d92e27de06b9c5b7d989871148822d0bfdc9493dd7b902c51e7a12"
  },
  "language_info": {
   "codemirror_mode": {
    "name": "ipython",
    "version": 3
   },
   "file_extension": ".py",
   "mimetype": "text/x-python",
   "name": "python",
   "nbconvert_exporter": "python",
   "pygments_lexer": "ipython3",
   "version": "3.9.4"
  },
  "metadata": {
   "interpreter": {
    "hash": "0dcdb8eab8d92e27de06b9c5b7d989871148822d0bfdc9493dd7b902c51e7a12"
   }
  },
  "orig_nbformat": 2
 },
 "nbformat": 4,
 "nbformat_minor": 2
}